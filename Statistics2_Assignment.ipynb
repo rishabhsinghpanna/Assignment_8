{
 "cells": [
  {
   "cell_type": "markdown",
   "id": "12e563af-b002-41f5-a202-aac0db424527",
   "metadata": {},
   "source": [
    "Q1. What are the three measures of central tendency?"
   ]
  },
  {
   "cell_type": "markdown",
   "id": "33592164-3eac-46db-8f32-ba5a8a718b13",
   "metadata": {},
   "source": [
    "Mean , Median , Mode"
   ]
  },
  {
   "cell_type": "code",
   "execution_count": null,
   "id": "55b24296-5d29-4da8-9dbd-d954ac1d7a00",
   "metadata": {},
   "outputs": [],
   "source": []
  },
  {
   "cell_type": "markdown",
   "id": "96aec6b4-9d65-4f7e-a78e-a33ffc114fde",
   "metadata": {},
   "source": [
    "Q2. What is the difference between the mean, median, and mode? How are they used to measure the\n",
    "central tendency of a dataset?"
   ]
  },
  {
   "cell_type": "markdown",
   "id": "0de0da9f-6e15-4d49-a405-0b42dad902d0",
   "metadata": {},
   "source": [
    "1. Mean: The mean is the arithmetic average of all the values in a dataset. It is calculated by summing up all the values and then dividing by the total number of values. The mean is sensitive to extreme values (outliers) in the dataset because it takes into account every value.\n",
    "\n",
    "2. Median: The median is the middle value of a dataset when the values are arranged in ascending or descending order. If there is an even number of values, the median is the average of the two middle values. The median is less affected by extreme values compared to the mean, making it a robust measure of central tendency, especially in datasets with outliers.\n",
    "\n",
    "3. Mode: The mode is the value that occurs most frequently in a dataset. A dataset may have one mode (unimodal), two modes (bimodal), or more than two modes (multimodal). Unlike the mean and median, the mode is not affected by extreme values because it only depends on the frequency of values.\n",
    "\n",
    "These measures are used to summarize and describe the central tendency of a dataset:\n",
    "\n",
    "1. Mean: It provides a measure of the \"average\" value in the dataset and is often used when the distribution of data is approximately symmetric and not heavily influenced by outliers.\n",
    "\n",
    "2. Median: It gives insight into the \"middle\" value of the dataset and is particularly useful when the data is skewed or contains outliers since it is less affected by extreme values.\n",
    "\n",
    "3. Mode: It identifies the most frequently occurring value in the dataset and is useful for categorical or nominal data, where the concept of an average may not be meaningful. The mode can also provide insights into the central tendency of continuous data when the distribution exhibits clear peaks."
   ]
  },
  {
   "cell_type": "code",
   "execution_count": null,
   "id": "536689e8-3a60-446a-9fc4-91c989b0f603",
   "metadata": {},
   "outputs": [],
   "source": []
  },
  {
   "cell_type": "markdown",
   "id": "7e69c446-e910-4cd2-bd4e-d67ad4ee4fb9",
   "metadata": {},
   "source": [
    "Q3. Measure the three measures of central tendency for the given height data:\n",
    "[178,177,176,177,178.2,178,175,179,180,175,178.9,176.2,177,172.5,178,176.5]"
   ]
  },
  {
   "cell_type": "code",
   "execution_count": 13,
   "id": "1e31cd5f-36e3-4500-935c-26520e599ddd",
   "metadata": {},
   "outputs": [],
   "source": [
    "heights = [178,177,176,177,178.2,178,175,179,180,175,178.9,176.2,177,172.5,178,176.5]"
   ]
  },
  {
   "cell_type": "code",
   "execution_count": 3,
   "id": "e2a86485-dfea-4927-9881-5dadf7ab1a3d",
   "metadata": {},
   "outputs": [],
   "source": [
    "import numpy as np"
   ]
  },
  {
   "cell_type": "code",
   "execution_count": 4,
   "id": "b0e06e95-99a1-41eb-9715-159afc5c74d4",
   "metadata": {},
   "outputs": [
    {
     "data": {
      "text/plain": [
       "177.01875"
      ]
     },
     "execution_count": 4,
     "metadata": {},
     "output_type": "execute_result"
    }
   ],
   "source": [
    "np.mean(heights)"
   ]
  },
  {
   "cell_type": "code",
   "execution_count": 15,
   "id": "42736fa6-8e9d-417b-9290-ff2dcf1dcde1",
   "metadata": {},
   "outputs": [
    {
     "data": {
      "text/plain": [
       "177.0"
      ]
     },
     "execution_count": 15,
     "metadata": {},
     "output_type": "execute_result"
    }
   ],
   "source": [
    "np.median(heights)"
   ]
  },
  {
   "cell_type": "code",
   "execution_count": 17,
   "id": "d2e9b60e-9aab-4538-b4ba-3bb7f08985f1",
   "metadata": {},
   "outputs": [
    {
     "name": "stderr",
     "output_type": "stream",
     "text": [
      "/tmp/ipykernel_3710/2713150148.py:2: FutureWarning: Unlike other reduction functions (e.g. `skew`, `kurtosis`), the default behavior of `mode` typically preserves the axis it acts along. In SciPy 1.11.0, this behavior will change: the default value of `keepdims` will become False, the `axis` over which the statistic is taken will be eliminated, and the value None will no longer be accepted. Set `keepdims` to True or False to avoid this warning.\n",
      "  stats.mode(heights)\n"
     ]
    },
    {
     "data": {
      "text/plain": [
       "ModeResult(mode=array([177.]), count=array([3]))"
      ]
     },
     "execution_count": 17,
     "metadata": {},
     "output_type": "execute_result"
    }
   ],
   "source": [
    "from scipy import stats\n",
    "stats.mode(heights)"
   ]
  },
  {
   "cell_type": "code",
   "execution_count": 6,
   "id": "87b408ba-4f04-4579-941e-21157a01c359",
   "metadata": {},
   "outputs": [],
   "source": [
    "height = {'heights' : [178,177,176,177,178.2,178,175,179,180,175,178.9,176.2,177,172.5,178,176.5]}"
   ]
  },
  {
   "cell_type": "code",
   "execution_count": 7,
   "id": "63afd8a6-0511-455f-8f6a-a36feec5ec6d",
   "metadata": {},
   "outputs": [],
   "source": [
    "import pandas as pd"
   ]
  },
  {
   "cell_type": "code",
   "execution_count": 8,
   "id": "5cc36f16-160b-4e83-bcf2-e22b8a42dc88",
   "metadata": {},
   "outputs": [],
   "source": [
    "df = pd.DataFrame(height)"
   ]
  },
  {
   "cell_type": "code",
   "execution_count": 9,
   "id": "bf9720fa-3b3f-4d1d-be78-9b918657c1cc",
   "metadata": {},
   "outputs": [
    {
     "data": {
      "text/html": [
       "<div>\n",
       "<style scoped>\n",
       "    .dataframe tbody tr th:only-of-type {\n",
       "        vertical-align: middle;\n",
       "    }\n",
       "\n",
       "    .dataframe tbody tr th {\n",
       "        vertical-align: top;\n",
       "    }\n",
       "\n",
       "    .dataframe thead th {\n",
       "        text-align: right;\n",
       "    }\n",
       "</style>\n",
       "<table border=\"1\" class=\"dataframe\">\n",
       "  <thead>\n",
       "    <tr style=\"text-align: right;\">\n",
       "      <th></th>\n",
       "      <th>heights</th>\n",
       "    </tr>\n",
       "  </thead>\n",
       "  <tbody>\n",
       "    <tr>\n",
       "      <th>0</th>\n",
       "      <td>178.0</td>\n",
       "    </tr>\n",
       "    <tr>\n",
       "      <th>1</th>\n",
       "      <td>177.0</td>\n",
       "    </tr>\n",
       "    <tr>\n",
       "      <th>2</th>\n",
       "      <td>176.0</td>\n",
       "    </tr>\n",
       "    <tr>\n",
       "      <th>3</th>\n",
       "      <td>177.0</td>\n",
       "    </tr>\n",
       "    <tr>\n",
       "      <th>4</th>\n",
       "      <td>178.2</td>\n",
       "    </tr>\n",
       "    <tr>\n",
       "      <th>5</th>\n",
       "      <td>178.0</td>\n",
       "    </tr>\n",
       "    <tr>\n",
       "      <th>6</th>\n",
       "      <td>175.0</td>\n",
       "    </tr>\n",
       "    <tr>\n",
       "      <th>7</th>\n",
       "      <td>179.0</td>\n",
       "    </tr>\n",
       "    <tr>\n",
       "      <th>8</th>\n",
       "      <td>180.0</td>\n",
       "    </tr>\n",
       "    <tr>\n",
       "      <th>9</th>\n",
       "      <td>175.0</td>\n",
       "    </tr>\n",
       "    <tr>\n",
       "      <th>10</th>\n",
       "      <td>178.9</td>\n",
       "    </tr>\n",
       "    <tr>\n",
       "      <th>11</th>\n",
       "      <td>176.2</td>\n",
       "    </tr>\n",
       "    <tr>\n",
       "      <th>12</th>\n",
       "      <td>177.0</td>\n",
       "    </tr>\n",
       "    <tr>\n",
       "      <th>13</th>\n",
       "      <td>172.5</td>\n",
       "    </tr>\n",
       "    <tr>\n",
       "      <th>14</th>\n",
       "      <td>178.0</td>\n",
       "    </tr>\n",
       "    <tr>\n",
       "      <th>15</th>\n",
       "      <td>176.5</td>\n",
       "    </tr>\n",
       "  </tbody>\n",
       "</table>\n",
       "</div>"
      ],
      "text/plain": [
       "    heights\n",
       "0     178.0\n",
       "1     177.0\n",
       "2     176.0\n",
       "3     177.0\n",
       "4     178.2\n",
       "5     178.0\n",
       "6     175.0\n",
       "7     179.0\n",
       "8     180.0\n",
       "9     175.0\n",
       "10    178.9\n",
       "11    176.2\n",
       "12    177.0\n",
       "13    172.5\n",
       "14    178.0\n",
       "15    176.5"
      ]
     },
     "execution_count": 9,
     "metadata": {},
     "output_type": "execute_result"
    }
   ],
   "source": [
    "df"
   ]
  },
  {
   "cell_type": "code",
   "execution_count": 10,
   "id": "c132c68e-18a0-42da-b6b3-856f9b336cf2",
   "metadata": {},
   "outputs": [
    {
     "data": {
      "text/html": [
       "<div>\n",
       "<style scoped>\n",
       "    .dataframe tbody tr th:only-of-type {\n",
       "        vertical-align: middle;\n",
       "    }\n",
       "\n",
       "    .dataframe tbody tr th {\n",
       "        vertical-align: top;\n",
       "    }\n",
       "\n",
       "    .dataframe thead th {\n",
       "        text-align: right;\n",
       "    }\n",
       "</style>\n",
       "<table border=\"1\" class=\"dataframe\">\n",
       "  <thead>\n",
       "    <tr style=\"text-align: right;\">\n",
       "      <th></th>\n",
       "      <th>heights</th>\n",
       "    </tr>\n",
       "  </thead>\n",
       "  <tbody>\n",
       "    <tr>\n",
       "      <th>0</th>\n",
       "      <td>177.0</td>\n",
       "    </tr>\n",
       "    <tr>\n",
       "      <th>1</th>\n",
       "      <td>178.0</td>\n",
       "    </tr>\n",
       "  </tbody>\n",
       "</table>\n",
       "</div>"
      ],
      "text/plain": [
       "   heights\n",
       "0    177.0\n",
       "1    178.0"
      ]
     },
     "execution_count": 10,
     "metadata": {},
     "output_type": "execute_result"
    }
   ],
   "source": [
    "df.mode()"
   ]
  },
  {
   "cell_type": "code",
   "execution_count": 11,
   "id": "161503aa-7185-4138-934f-06c9afc1fa52",
   "metadata": {},
   "outputs": [
    {
     "data": {
      "text/plain": [
       "heights    177.0\n",
       "dtype: float64"
      ]
     },
     "execution_count": 11,
     "metadata": {},
     "output_type": "execute_result"
    }
   ],
   "source": [
    "df.median()"
   ]
  },
  {
   "cell_type": "code",
   "execution_count": null,
   "id": "5ecff46a-d252-4494-bceb-51610ed2b6aa",
   "metadata": {},
   "outputs": [],
   "source": []
  },
  {
   "cell_type": "code",
   "execution_count": null,
   "id": "f688fea6-9880-423c-b37f-87b5a1712967",
   "metadata": {},
   "outputs": [],
   "source": []
  },
  {
   "cell_type": "markdown",
   "id": "63ae9005-88b3-4502-8e2b-2863b133149e",
   "metadata": {},
   "source": [
    "Q4. Find the standard deviation for the given data:\n",
    "[178,177,176,177,178.2,178,175,179,180,175,178.9,176.2,177,172.5,178,176.5]"
   ]
  },
  {
   "cell_type": "code",
   "execution_count": 18,
   "id": "e161ab1f-9632-44c9-b5b0-1bd1a04423df",
   "metadata": {},
   "outputs": [
    {
     "data": {
      "text/plain": [
       "heights    1.847239\n",
       "dtype: float64"
      ]
     },
     "execution_count": 18,
     "metadata": {},
     "output_type": "execute_result"
    }
   ],
   "source": [
    "df.std()"
   ]
  },
  {
   "cell_type": "code",
   "execution_count": 19,
   "id": "644bb6c1-da40-411d-98fa-39b278363bec",
   "metadata": {},
   "outputs": [
    {
     "data": {
      "text/plain": [
       "1.7885814036548633"
      ]
     },
     "execution_count": 19,
     "metadata": {},
     "output_type": "execute_result"
    }
   ],
   "source": [
    "np.std(heights)"
   ]
  },
  {
   "cell_type": "code",
   "execution_count": null,
   "id": "480d43e8-8d54-4a52-b230-6d391f69226d",
   "metadata": {},
   "outputs": [],
   "source": []
  },
  {
   "cell_type": "code",
   "execution_count": null,
   "id": "2662148f-cac5-42df-9434-656f3411ada0",
   "metadata": {},
   "outputs": [],
   "source": []
  },
  {
   "cell_type": "markdown",
   "id": "0e7c6740-c209-46e7-8e19-f64beb7d7fc1",
   "metadata": {},
   "source": [
    "Q5. How are measures of dispersion such as range, variance, and standard deviation used to describe\n",
    "the spread of a dataset? Provide an example."
   ]
  },
  {
   "cell_type": "markdown",
   "id": "0411948f-536c-4f3e-a602-320c40ce76ec",
   "metadata": {},
   "source": [
    "Measures of dispersion, such as range, variance, and standard deviation, provide information about how spread out the values in a dataset are from the central tendency (mean, median, or mode). They help quantify the extent of variability or dispersion within the data.\n",
    "\n",
    "1. Range: The range is the difference between the maximum and minimum values in a dataset. It gives a simple measure of the   spread of the data but is sensitive to outliers.\n",
    "\n",
    "2. Variance: The variance measures the average squared deviation of each data point from the mean of the dataset. It provides a measure of the overall variability of the data. A higher variance indicates greater spread or dispersion of the data points from the mean.\n",
    "\n",
    "3. Standard Deviation: The standard deviation is the square root of the variance. It measures the average distance of each data point from the mean. Like variance, a higher standard deviation indicates greater variability in the dataset."
   ]
  },
  {
   "cell_type": "code",
   "execution_count": null,
   "id": "8a305bed-9ffd-46cf-9d5e-34cbcfcba2a2",
   "metadata": {},
   "outputs": [],
   "source": []
  },
  {
   "cell_type": "markdown",
   "id": "b3e1e3d1-a64e-4b6a-afe6-c705c193920b",
   "metadata": {},
   "source": [
    "Here's an example to illustrate how these measures describe the spread of a dataset:\n",
    "\n",
    "Suppose we have two datasets representing the daily temperatures (in degrees Celsius) for two cities, City A and City B, over the past week:\n",
    "\n",
    "City A: 22, 24, 23, 21, 25, 23, 22\n",
    "City B: 18, 30, 20, 22, 19, 21, 25\n",
    "\n",
    "1. Range:\n",
    "For City A: Range = Maximum value - Minimum value = 25 - 21 = 4°C\n",
    "For City B: Range = Maximum value - Minimum value = 30 - 18 = 12°C\n",
    "\n",
    "2. Variance:\n",
    "For City A: Variance = (Sum of squared deviations from the mean) / (Number of observations - 1)\n",
    "= [(22-23)^2 + (24-23)^2 + (23-23)^2 + (21-23)^2 + (25-23)^2 + (23-23)^2 + (22-23)^2] / 6\n",
    "≈ 1.67°C^2\n",
    "For City B: Variance = [(18-22)^2 + (30-22)^2 + (20-22)^2 + (22-22)^2 + (19-22)^2 + (21-22)^2 + (25-22)^2] / 6\n",
    "≈ 15.33°C^2\n",
    "\n",
    "3. Standard Deviation:\n",
    "For City A: Standard Deviation = Square Root of Variance ≈ √1.67 ≈ 1.29°C\n",
    "For City B: Standard Deviation = Square Root of Variance ≈ √15.33 ≈ 3.91°C\n",
    "\n",
    "In this example, City B has a higher range, variance, and standard deviation compared to City A, indicating that City B's temperatures are more spread out or variable over the week."
   ]
  },
  {
   "cell_type": "code",
   "execution_count": null,
   "id": "1367ca4a-0aa2-4259-9844-f84c2a4c92c7",
   "metadata": {},
   "outputs": [],
   "source": []
  },
  {
   "cell_type": "code",
   "execution_count": null,
   "id": "75501875-0b2f-486b-b20b-7d7b8585ce43",
   "metadata": {},
   "outputs": [],
   "source": []
  },
  {
   "cell_type": "markdown",
   "id": "3211d5da-77ba-4193-8d05-ad29e95ede99",
   "metadata": {},
   "source": [
    "Q6. What is a Venn diagram?"
   ]
  },
  {
   "cell_type": "markdown",
   "id": "0f131243-6dcd-47ab-9e93-368b7f7f001e",
   "metadata": {},
   "source": [
    "\n",
    "A Venn diagram is a graphical representation used to show all possible logical relations between a finite collection of different sets. It is composed of overlapping circles (or other shapes) that represent the sets, and the overlapping regions represent the intersections between these sets."
   ]
  },
  {
   "cell_type": "code",
   "execution_count": null,
   "id": "7a420e7d-b54f-477b-874f-863c5cffe234",
   "metadata": {},
   "outputs": [],
   "source": []
  },
  {
   "cell_type": "markdown",
   "id": "8e5684c3-b641-43c9-b430-80a3198de4f6",
   "metadata": {},
   "source": [
    "Q7. For the two given sets A = (2,3,4,5,6,7) & B = (0,2,6,8,10). Find:\n",
    "(i) A intersection B\n",
    "(ii) A ⋃ B"
   ]
  },
  {
   "cell_type": "code",
   "execution_count": 21,
   "id": "6c8ee41c-d6bb-42ca-bd58-9d2be1aef551",
   "metadata": {},
   "outputs": [
    {
     "name": "stdout",
     "output_type": "stream",
     "text": [
      "Intersection of A and B: [2, 6]\n",
      "Union of A and B: [0, 2, 3, 4, 5, 6, 7, 8, 10]\n"
     ]
    }
   ],
   "source": [
    "import pandas as pd\n",
    "\n",
    "# Define the sets A and B\n",
    "A = pd.Series([2, 3, 4, 5, 6, 7])\n",
    "B = pd.Series([0, 2, 6, 8, 10])\n",
    "\n",
    "# Intersection of sets A and B\n",
    "intersection = pd.Series(list(set(A) & set(B)))\n",
    "print(\"Intersection of A and B:\", intersection.tolist()) ## .tolist indicates that convert the result into list\n",
    "\n",
    "# Union of sets A and B\n",
    "union = pd.Series(list(set(A) | set(B)))\n",
    "print(\"Union of A and B:\", union.tolist())\n"
   ]
  },
  {
   "cell_type": "code",
   "execution_count": null,
   "id": "86622d4c-fa8d-4e0d-a7dd-c12d5267bb31",
   "metadata": {},
   "outputs": [],
   "source": []
  },
  {
   "cell_type": "code",
   "execution_count": null,
   "id": "418cf1d4-1db5-43cc-b01a-8264e567f5e8",
   "metadata": {},
   "outputs": [],
   "source": []
  },
  {
   "cell_type": "markdown",
   "id": "28c7901e-5833-49ae-9831-c3d3f9d6ebdf",
   "metadata": {},
   "source": [
    "Q8. What do you understand about skewness in data ?"
   ]
  },
  {
   "cell_type": "markdown",
   "id": "ab1c92c8-d518-4614-9adf-b3c4c76d7a54",
   "metadata": {},
   "source": [
    "\n",
    "Skewness in data refers to the lack of symmetry in the distribution of values. It indicates the degree to which a dataset deviates from a symmetrical distribution around its mean. A symmetrical distribution has equal amounts of data on both sides of the mean, resulting in a balanced shape, while a skewed distribution has a longer tail on one side compared to the other."
   ]
  },
  {
   "cell_type": "code",
   "execution_count": null,
   "id": "e6190398-a7fb-40bd-a5db-bdf030feecf1",
   "metadata": {},
   "outputs": [],
   "source": []
  },
  {
   "cell_type": "markdown",
   "id": "8ed2db3d-d437-47d2-bf25-5b00e2e7b37c",
   "metadata": {},
   "source": [
    "There are two main types of skewness:\n",
    "\n",
    "1. Positive Skewness (Right Skewness): In a positively skewed distribution, the tail of the distribution extends to the right, indicating that there are more extreme values on the right side of the distribution. The mean is typically greater than the median, and the mode is less than the median. Positive skewness is also known as right skewness because the tail points towards the right.\n",
    "\n",
    "2. Negative Skewness (Left Skewness): In a negatively skewed distribution, the tail of the distribution extends to the left, indicating that there are more extreme values on the left side of the distribution. The mean is typically less than the median, and the mode is greater than the median. Negative skewness is also known as left skewness because the tail points towards the left."
   ]
  },
  {
   "cell_type": "code",
   "execution_count": null,
   "id": "55301314-34e3-4328-a5a8-c706f5d88b8f",
   "metadata": {},
   "outputs": [],
   "source": []
  },
  {
   "cell_type": "markdown",
   "id": "e68d8c66-b5ce-4ce2-9332-4c84bca88d59",
   "metadata": {},
   "source": [
    "Skewness is an essential concept in statistics and data analysis because it provides insights into the shape and characteristics of a dataset. Understanding skewness helps analysts identify patterns, outliers, and potential issues in the data. Additionally, skewness plays a crucial role in selecting appropriate statistical methods and interpreting results accurately."
   ]
  },
  {
   "cell_type": "code",
   "execution_count": null,
   "id": "fb83dbbc-5f1e-4487-b778-e4c8e49384fb",
   "metadata": {},
   "outputs": [],
   "source": []
  },
  {
   "cell_type": "code",
   "execution_count": null,
   "id": "e8fcb763-bfe5-4561-ab3c-24980b8f2f20",
   "metadata": {},
   "outputs": [],
   "source": []
  },
  {
   "cell_type": "markdown",
   "id": "45ac48b1-8d71-4b02-a2e6-cb785f5d45f1",
   "metadata": {},
   "source": [
    "Q9. If a data is right skewed then what will be the position of median with respect to mean?"
   ]
  },
  {
   "cell_type": "markdown",
   "id": "18b4887e-0663-4915-8bfd-53204797405a",
   "metadata": {},
   "source": [
    "If a dataset is right-skewed, the position of the median with respect to the mean will typically be as follows:\n",
    "\n",
    "The mean will be greater than the median.\n",
    "Since a right-skewed distribution has a longer tail on the right side, indicating that there are more extreme values on the right, the mean will be pulled towards the higher values, leading to a higher mean value. On the other hand, the median represents the middle value of the dataset, which is less influenced by extreme values. Therefore, in a right-skewed distribution, the mean tends to be greater than the median.\n",
    "\n",
    "\n",
    "\n",
    "\n",
    "\n"
   ]
  },
  {
   "cell_type": "code",
   "execution_count": null,
   "id": "0800413c-b76e-48a6-a7bb-ff012ea4ed97",
   "metadata": {},
   "outputs": [],
   "source": []
  },
  {
   "cell_type": "code",
   "execution_count": null,
   "id": "e22ccf77-427f-44ea-85c4-1f403863e0e3",
   "metadata": {},
   "outputs": [],
   "source": []
  },
  {
   "cell_type": "markdown",
   "id": "7bb59490-b5f2-493d-aa65-f0dfa9b45573",
   "metadata": {},
   "source": [
    "Q10. Explain the difference between covariance and correlation. How are these measures used in\n",
    "statistical analysis?"
   ]
  },
  {
   "cell_type": "markdown",
   "id": "fda374c9-7997-48af-8a74-8e53508d86cd",
   "metadata": {},
   "source": [
    "1. Covariance:\n",
    "\n",
    "Covariance measures the degree to which two variables change together. It indicates the direction of the linear relationship between the variables.\n",
    "The formula for covariance between two variables X and Y is:\n",
    "cov\n",
    "(\n",
    "�\n",
    ",\n",
    "�\n",
    ")\n",
    "=\n",
    "∑\n",
    "(\n",
    "�\n",
    "�\n",
    "−\n",
    "�\n",
    "ˉ\n",
    ")\n",
    "(\n",
    "�\n",
    "�\n",
    "−\n",
    "�\n",
    "ˉ\n",
    ")\n",
    "�\n",
    "cov(X,Y)= \n",
    "n\n",
    "∑(X \n",
    "i\n",
    "​\n",
    " − \n",
    "X\n",
    "ˉ\n",
    " )(Y \n",
    "i\n",
    "​\n",
    " − \n",
    "Y\n",
    "ˉ\n",
    " )\n",
    "​\n",
    " \n",
    "Where:\n",
    "�\n",
    "�\n",
    "X \n",
    "i\n",
    "​\n",
    "  and \n",
    "�\n",
    "�\n",
    "Y \n",
    "i\n",
    "​\n",
    "  are individual data points of variables X and Y.\n",
    "�\n",
    "ˉ\n",
    "X\n",
    "ˉ\n",
    "  and \n",
    "�\n",
    "ˉ\n",
    "Y\n",
    "ˉ\n",
    "  are the means of variables X and Y, respectively.\n",
    "�\n",
    "n is the number of data points.\n",
    "Covariance can take any value, positive or negative, depending on the direction of the relationship. A positive covariance indicates that as one variable increases, the other variable tends to increase as well, while a negative covariance indicates an inverse relationship.\n",
    "The magnitude of the covariance is not standardized and depends on the scale of the variables. Therefore, it can be challenging to interpret and compare covariances across different datasets.\n",
    "\n",
    "\n",
    "2. Correlation:\n",
    "\n",
    "Correlation is a standardized measure that quantifies the strength and direction of the linear relationship between two variables. It is a dimensionless quantity, ranging from -1 to +1.\n",
    "The most commonly used measure of correlation is Pearson correlation coefficient, denoted by \n",
    "�\n",
    "ρ (rho), which is calculated as:\n",
    "�\n",
    "�\n",
    ",\n",
    "�\n",
    "=\n",
    "cov\n",
    "(\n",
    "�\n",
    ",\n",
    "�\n",
    ")\n",
    "�\n",
    "�\n",
    "�\n",
    "�\n",
    "ρ \n",
    "X,Y\n",
    "​\n",
    " = \n",
    "σ \n",
    "X\n",
    "​\n",
    " σ \n",
    "Y\n",
    "​\n",
    " \n",
    "cov(X,Y)\n",
    "​\n",
    " \n",
    "Where:\n",
    "cov\n",
    "(\n",
    "�\n",
    ",\n",
    "�\n",
    ")\n",
    "cov(X,Y) is the covariance between variables X and Y.\n",
    "�\n",
    "�\n",
    "σ \n",
    "X\n",
    "​\n",
    "  and \n",
    "�\n",
    "�\n",
    "σ \n",
    "Y\n",
    "​\n",
    "  are the standard deviations of variables X and Y, respectively.\n",
    "Correlation coefficients close to +1 indicate a strong positive linear relationship, coefficients close to -1 indicate a strong negative linear relationship, and coefficients close to 0 indicate little to no linear relationship.\n",
    "Correlation is useful because it is standardized, making it easier to interpret and compare relationships across different datasets with different scales."
   ]
  },
  {
   "cell_type": "code",
   "execution_count": null,
   "id": "d8bc9d5d-5253-46a7-9341-48e3195e1dc5",
   "metadata": {},
   "outputs": [],
   "source": []
  },
  {
   "cell_type": "code",
   "execution_count": null,
   "id": "993e188a-26f3-401d-87ad-c218c73dac55",
   "metadata": {},
   "outputs": [],
   "source": []
  },
  {
   "cell_type": "markdown",
   "id": "a888d8f5-d41d-4109-8520-7bee205d0e81",
   "metadata": {},
   "source": [
    "Q11. What is the formula for calculating the sample mean? Provide an example calculation for a\n",
    "dataset."
   ]
  },
  {
   "cell_type": "markdown",
   "id": "68354743-7149-4aa1-b94b-5d55452a3f75",
   "metadata": {},
   "source": [
    "\n",
    "The formula for calculating the sample mean (also known as the average) of a dataset is:\n",
    "\n",
    "Sample Mean\n",
    "=\n",
    "∑\n",
    "�\n",
    "=\n",
    "1\n",
    "�\n",
    "�\n",
    "�\n",
    "�\n",
    "Sample Mean= \n",
    "n\n",
    "∑ \n",
    "i=1\n",
    "n\n",
    "​\n",
    " x \n",
    "i\n",
    "​\n",
    " \n",
    "​\n",
    " \n",
    "\n",
    "Where:\n",
    "\n",
    "�\n",
    "�\n",
    "x \n",
    "i\n",
    "​\n",
    "  represents each individual value in the dataset.\n",
    "�\n",
    "n is the total number of values in the dataset.\n",
    "To calculate the sample mean:\n",
    "\n",
    "Add up all the values in the dataset.\n",
    "Divide the sum by the total number of values in the dataset.\n",
    "Here's an example calculation of the sample mean for a dataset:\n",
    "\n",
    "Dataset: {10, 15, 20, 25, 30}\n",
    "\n",
    "Sum of the values: \n",
    "10\n",
    "+\n",
    "15\n",
    "+\n",
    "20\n",
    "+\n",
    "25\n",
    "+\n",
    "30\n",
    "=\n",
    "100\n",
    "10+15+20+25+30=100\n",
    "Total number of values: \n",
    "�\n",
    "=\n",
    "5\n",
    "n=5\n",
    "Sample Mean\n",
    "=\n",
    "100\n",
    "5\n",
    "=\n",
    "20\n",
    "Sample Mean= \n",
    "5\n",
    "100\n",
    "​\n",
    " =20\n",
    "\n",
    "So, the sample mean of the dataset {10, 15, 20, 25, 30} is 20."
   ]
  },
  {
   "cell_type": "code",
   "execution_count": null,
   "id": "df4e3b41-6b13-4e0c-a4ad-006de3721087",
   "metadata": {},
   "outputs": [],
   "source": []
  },
  {
   "cell_type": "code",
   "execution_count": null,
   "id": "12d190ed-cbd8-4f76-9763-5baf1f5ea600",
   "metadata": {},
   "outputs": [],
   "source": []
  },
  {
   "cell_type": "markdown",
   "id": "0527a542-0bfc-43df-b79f-e5128166b128",
   "metadata": {},
   "source": [
    "Q12. For a normal distribution data what is the relationship between its measure of central tendency?"
   ]
  },
  {
   "cell_type": "markdown",
   "id": "5d94c91b-afe4-402a-ac67-d30589023fb2",
   "metadata": {},
   "source": [
    " For a normal distribution, the mean, median, and mode are all equal and located at the center of the distribution. This relationship holds true for perfectly symmetric normal distributions. However, in real-world scenarios, slight deviations from perfect symmetry may lead to small differences between these measures."
   ]
  },
  {
   "cell_type": "code",
   "execution_count": null,
   "id": "8fa51ccc-dcd4-4050-bc10-727b6c517654",
   "metadata": {},
   "outputs": [],
   "source": []
  },
  {
   "cell_type": "code",
   "execution_count": null,
   "id": "fffed2c7-e3b6-4012-a18f-45ccafd373aa",
   "metadata": {},
   "outputs": [],
   "source": []
  },
  {
   "cell_type": "markdown",
   "id": "fb6558c4-1b3b-4ba3-b9b1-a92ce10d17d8",
   "metadata": {},
   "source": [
    "Q13. How is covariance different from correlation?"
   ]
  },
  {
   "cell_type": "markdown",
   "id": "720a23c4-8825-4cca-9cff-ae136aff4d9c",
   "metadata": {},
   "source": [
    "Covariance and correlation are both measures used to quantify the relationship between two variables, but they differ in several aspects:\n",
    "\n",
    "1. Definition:\n",
    "\n",
    "Covariance measures the degree to which two variables change together. It indicates the direction of the linear relationship between the variables.\n",
    "Correlation measures the strength and direction of the linear relationship between two variables. It is a standardized measure that ranges from -1 to +1, where:\n",
    "A correlation coefficient close to +1 indicates a strong positive linear relationship.\n",
    "A correlation coefficient close to -1 indicates a strong negative linear relationship.\n",
    "A correlation coefficient close to 0 indicates little to no linear relationship.\n",
    "\n",
    "\n",
    "2. Scale:\n",
    "\n",
    "Covariance is not standardized and depends on the scale of the variables. Therefore, the magnitude of covariance can vary widely, making it difficult to interpret and compare across different datasets.\n",
    "Correlation is a dimensionless quantity, ranging from -1 to +1. It is standardized, making it easier to interpret and compare relationships across different datasets with different scales.\n",
    "\n",
    "\n",
    "3. Interpretation:\n",
    "\n",
    "Covariance does not provide clear guidelines for interpretation due to its dependence on the scale of the variables. A positive covariance indicates that as one variable increases, the other tends to increase as well, while a negative covariance indicates an inverse relationship. However, the magnitude of covariance does not indicate the strength of the relationship.\n",
    "Correlation provides a standardized measure of the strength and direction of the linear relationship between two variables. The correlation coefficient indicates the degree to which the variables move together in a linear fashion, regardless of their scale.\n",
    "\n",
    "\n",
    "4. Range:\n",
    "\n",
    "Covariance can take any value, positive or negative, depending on the direction of the relationship between variables.\n",
    "Correlation coefficients range from -1 to +1, where extreme values indicate stronger linear relationships and values closer to 0 indicate weaker or no linear relationship."
   ]
  },
  {
   "cell_type": "code",
   "execution_count": null,
   "id": "5394b1a1-0453-406e-b937-e24fad4ef947",
   "metadata": {},
   "outputs": [],
   "source": []
  },
  {
   "cell_type": "markdown",
   "id": "81957f8d-8240-475f-a4dd-42f5bacf155d",
   "metadata": {},
   "source": [
    "Covariance and Correlation both measure the relationship between two variables, correlation provides a standardized measure that is easier to interpret and compare across different datasets, whereas covariance does not have such standardization and is more affected by the scale of the variables."
   ]
  },
  {
   "cell_type": "code",
   "execution_count": null,
   "id": "da2ae0c4-41df-4b09-8281-3fbe2df35e49",
   "metadata": {},
   "outputs": [],
   "source": []
  },
  {
   "cell_type": "code",
   "execution_count": null,
   "id": "a73c32c7-ad18-48be-a893-030e6f743be8",
   "metadata": {},
   "outputs": [],
   "source": []
  },
  {
   "cell_type": "markdown",
   "id": "a0550164-39fd-4d15-8112-beffd605de63",
   "metadata": {},
   "source": [
    "Q14. How do outliers affect measures of central tendency and dispersion? Provide an example."
   ]
  },
  {
   "cell_type": "markdown",
   "id": "531766ea-cb35-4ece-a7c2-898934fa2ecd",
   "metadata": {},
   "source": [
    "\n",
    "Outliers can significantly impact measures of central tendency and dispersion in a dataset. Their presence can distort the calculated values and lead to inaccurate summaries of the data. Here's how outliers affect different measures:\n",
    "\n",
    "1. Measures of Central Tendency:\n",
    "\n",
    "a. Mean: Outliers can heavily influence the mean because it takes into account every value in the dataset. If an outlier is significantly higher or lower than the other values, it can pull the mean towards it, causing it to be either inflated or deflated.\n",
    "\n",
    "b. Median: The median is less affected by outliers compared to the mean. Since the median is the middle value when the data are sorted, it only considers the central values and is not influenced by extreme values.\n",
    "Mode: Outliers typically do not affect the mode because it represents the most frequently occurring value in the dataset. As long as the outlier is not a part of the mode, its presence does not change the mode.\n",
    "\n",
    "\n",
    "2. Measures of Dispersion:\n",
    "\n",
    "a. Range: Outliers can significantly affect the range because it is calculated as the difference between the maximum and minimum values in the dataset. If an outlier is present, it can increase or decrease the range depending on its position relative to the other values.\n",
    "\n",
    "\n",
    "b. Variance and Standard Deviation: Outliers can inflate the variance and standard deviation because they measure the spread of data points from the mean. Since outliers are far from the mean, they contribute to larger deviations, resulting in higher variance and standard deviation."
   ]
  },
  {
   "cell_type": "code",
   "execution_count": null,
   "id": "4d0cf963-98df-4992-92a6-05aaa8bd5abe",
   "metadata": {},
   "outputs": [],
   "source": []
  },
  {
   "cell_type": "markdown",
   "id": "29a4fb6d-4638-4f64-b0f2-6ba059338dcc",
   "metadata": {},
   "source": [
    "Example:\n",
    "Consider a dataset representing the salaries of employees in a company:\n",
    "\n",
    "{\n",
    "20000\n",
    ",\n",
    "25000\n",
    ",\n",
    "30000\n",
    ",\n",
    "35000\n",
    ",\n",
    "40000\n",
    ",\n",
    "50000\n",
    ",\n",
    "80000\n",
    "}\n",
    "{20000,25000,30000,35000,40000,50000,80000}\n",
    "\n",
    "If we add an outlier to this dataset:\n",
    "\n",
    "{\n",
    "20000\n",
    ",\n",
    "25000\n",
    ",\n",
    "30000\n",
    ",\n",
    "35000\n",
    ",\n",
    "40000\n",
    ",\n",
    "50000\n",
    ",\n",
    "80000\n",
    ",\n",
    "150000\n",
    "}\n",
    "{20000,25000,30000,35000,40000,50000,80000,150000}\n",
    "\n",
    "The mean salary will significantly increase due to the outlier, making it higher than what most employees earn. Similarly, the standard deviation will also increase because the outlier is far from the mean, leading to larger deviations. However, the median and mode will remain unchanged because they are less influenced by extreme values.\n",
    "\n",
    "\n",
    "\n",
    "\n",
    "\n"
   ]
  },
  {
   "cell_type": "code",
   "execution_count": null,
   "id": "811b870e-7b38-4031-887b-a8e4bdb4ec0d",
   "metadata": {},
   "outputs": [],
   "source": []
  }
 ],
 "metadata": {
  "kernelspec": {
   "display_name": "Python 3 (ipykernel)",
   "language": "python",
   "name": "python3"
  },
  "language_info": {
   "codemirror_mode": {
    "name": "ipython",
    "version": 3
   },
   "file_extension": ".py",
   "mimetype": "text/x-python",
   "name": "python",
   "nbconvert_exporter": "python",
   "pygments_lexer": "ipython3",
   "version": "3.10.8"
  }
 },
 "nbformat": 4,
 "nbformat_minor": 5
}
