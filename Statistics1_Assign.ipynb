{
 "cells": [
  {
   "cell_type": "markdown",
   "id": "3a939f4d-3000-42b9-a964-ade37ae9881b",
   "metadata": {},
   "source": [
    "Q1. What is statistics ?"
   ]
  },
  {
   "cell_type": "markdown",
   "id": "e2907573-f321-49c5-93fd-796e70ea6410",
   "metadata": {},
   "source": [
    "It is the science of collecting, organising , and analyzing data."
   ]
  },
  {
   "cell_type": "code",
   "execution_count": null,
   "id": "c872c7b3-d0b1-4cb9-a26a-f1bc9ba37700",
   "metadata": {},
   "outputs": [],
   "source": []
  },
  {
   "cell_type": "markdown",
   "id": "87efa076-0efe-4dc3-be05-d7cc849e29c6",
   "metadata": {},
   "source": [
    "Q2. Define the different types of statistics and give an example of when each type might be used. "
   ]
  },
  {
   "cell_type": "markdown",
   "id": "35b29d2a-c8c6-43b0-b967-af5f2d0017cc",
   "metadata": {},
   "source": [
    "Statistics can be broadly categorized into two main types: descriptive statistics and inferential statistics.\n",
    "\n",
    "1. Descriptive Statistics:\n",
    "Descriptive statistics involve the organization, summarization, and presentation of data in a meaningful way. These statistics describe the main features of a dataset without making any inferences about the broader population. Common measures of descriptive statistics include measures of central tendency (mean, median, mode) and measures of dispersion (range, variance, standard deviation).\n",
    "\n",
    "Example: Consider a dataset of the ages of a group of people. Descriptive statistics would provide the average age (mean), the middle age (median), and the age that appears most frequently (mode), giving a summary of the age distribution within the group.\n",
    "\n",
    "\n",
    "\n"
   ]
  },
  {
   "cell_type": "code",
   "execution_count": null,
   "id": "4ebe803a-d705-4455-962d-54f3af732357",
   "metadata": {},
   "outputs": [],
   "source": []
  },
  {
   "cell_type": "markdown",
   "id": "c5f53a82-1b8c-42e9-9903-5a9c19bca51f",
   "metadata": {},
   "source": [
    "2. Inferential Statistics:\n",
    "Inferential statistics involve drawing conclusions or making predictions about a population based on a sample of data taken from that population. These statistics use probability theory to make inferences about a population parameter. Common techniques include hypothesis testing, confidence intervals, and regression analysis.\n",
    "\n",
    "Example: A researcher wants to investigate whether a new drug is effective in reducing blood pressure. They might conduct a study with a sample of patients, administer the drug to some and a placebo to others, and then use inferential statistics to determine if there is a significant difference in blood pressure between the two groups. The results can then be generalized to make inferences about the larger population of individuals with similar conditions.\n",
    "\n",
    "\n",
    "\n"
   ]
  },
  {
   "cell_type": "code",
   "execution_count": null,
   "id": "26a7e5c0-6dd0-4805-aa79-46024463dace",
   "metadata": {},
   "outputs": [],
   "source": []
  },
  {
   "cell_type": "markdown",
   "id": "a6c83fc3-d128-43aa-b4d6-bd753dd7f5be",
   "metadata": {},
   "source": [
    "In summary, descriptive statistics help summarize and describe the main features of a dataset, while inferential statistics involve making predictions or inferences about a population based on a sample of data. Both types of statistics are crucial in various fields, including science, business, economics, and social sciences."
   ]
  },
  {
   "cell_type": "code",
   "execution_count": null,
   "id": "1b8f0818-e933-41d1-abbe-1cb74ee8e3b7",
   "metadata": {},
   "outputs": [],
   "source": []
  },
  {
   "cell_type": "code",
   "execution_count": null,
   "id": "5f632db3-8f5c-431f-b9c7-0ce9966c60a3",
   "metadata": {},
   "outputs": [],
   "source": []
  },
  {
   "cell_type": "markdown",
   "id": "29ee895b-bb49-47c9-af42-29d0ced787d7",
   "metadata": {},
   "source": [
    "Q3.  What are the different types of data and how do they differ from each other? Provide an example of  each type of data. "
   ]
  },
  {
   "cell_type": "markdown",
   "id": "3546c95d-addd-4c96-be39-74c145f3c901",
   "metadata": {},
   "source": [
    "Data can be classified into different types based on their nature and characteristics. The main types of data are nominal, ordinal, interval, and ratio.\n",
    "\n",
    "\n"
   ]
  },
  {
   "cell_type": "code",
   "execution_count": null,
   "id": "ed5ead21-aeee-48f2-88d9-67a614785b28",
   "metadata": {},
   "outputs": [],
   "source": []
  },
  {
   "cell_type": "markdown",
   "id": "75c3a822-5f1f-4309-89c4-4b9749aa2778",
   "metadata": {},
   "source": [
    "Nominal Data:\n",
    "\n",
    "Nominal data represent categories with no inherent order or ranking. It involves qualitative variables that can be assigned to different groups or labels.\n",
    "Example: Colors of cars (e.g., red, blue, green). The colors have no inherent order, and they simply represent different categories."
   ]
  },
  {
   "cell_type": "code",
   "execution_count": null,
   "id": "cb4439d9-a593-4b80-ad10-9c7ffe4a714d",
   "metadata": {},
   "outputs": [],
   "source": []
  },
  {
   "cell_type": "markdown",
   "id": "51032869-bec9-4e72-b0db-460b20074e81",
   "metadata": {},
   "source": [
    "Ordinal Data:\n",
    "\n",
    "Ordinal data involve categories with a meaningful order or ranking, but the intervals between them are not uniform or meaningful.\n",
    "Example: Educational levels (e.g., high school, bachelor's, master's, Ph.D.). While there is an order to these categories, the difference in educational \"distance\" between high school and bachelor's may not be the same as between bachelor's and master's.\n"
   ]
  },
  {
   "cell_type": "code",
   "execution_count": null,
   "id": "a56665b4-66ce-4def-af86-9cd9759834bc",
   "metadata": {},
   "outputs": [],
   "source": []
  },
  {
   "cell_type": "markdown",
   "id": "cb7210a4-ca10-49e3-ba73-90477c5abf4e",
   "metadata": {},
   "source": [
    "Interval Data:\n",
    "\n",
    "Interval data have a meaningful order, and the intervals between values are equal and meaningful. However, there is no true zero point, and ratios between values are not meaningful.\n",
    "Example: Temperature measured in Celsius or Fahrenheit. While the difference between 20°C and 30°C is the same as the difference between 30°C and 40°C, a temperature of 0°C does not represent the absence of temperature.\n"
   ]
  },
  {
   "cell_type": "code",
   "execution_count": null,
   "id": "16b5811d-a878-48c0-a642-12f37104ab7f",
   "metadata": {},
   "outputs": [],
   "source": []
  },
  {
   "cell_type": "markdown",
   "id": "a0c8504f-e1c8-4fd7-acee-8c0c3254af4e",
   "metadata": {},
   "source": [
    "Ratio Data:\n",
    "\n",
    "Ratio data have a meaningful order, equal intervals, and a true zero point, where zero indicates the absence of the quantity being measured. Ratios between values are meaningful.\n",
    "Example: Height or weight. A person with a height of 0 cm or a weight of 0 kg implies the absence of height or weight."
   ]
  },
  {
   "cell_type": "code",
   "execution_count": null,
   "id": "211ee1f3-ac70-4a49-933f-a5cd66562de5",
   "metadata": {},
   "outputs": [],
   "source": []
  },
  {
   "cell_type": "code",
   "execution_count": null,
   "id": "1ebae8f7-151e-41ef-87c1-446e3e3cf908",
   "metadata": {},
   "outputs": [],
   "source": []
  },
  {
   "cell_type": "markdown",
   "id": "14682d31-9cbd-4464-943e-d73999a6c7dd",
   "metadata": {},
   "source": [
    "Q4. Categorise the following datasets with respect to quantitative and qualitative data types: (i) Grading in exam: A+, A, B+, B, C+, C, D, E \n",
    "(ii) Colour of mangoes: yellow, green, orange, red \n",
    "(iii) Height data of a class: [178.9, 179, 179.5, 176, 177.2, 178.3, 175.8,...] \n",
    "(iv) Number of mangoes exported by a farm: [500, 600, 478, 672, …] \n"
   ]
  },
  {
   "cell_type": "code",
   "execution_count": null,
   "id": "ecd8a4c2-d390-4593-98a1-4cafe97f1e9b",
   "metadata": {},
   "outputs": [],
   "source": []
  },
  {
   "cell_type": "markdown",
   "id": "ca41e8cf-bacf-47b9-9d1e-b98eaeb0c772",
   "metadata": {},
   "source": [
    "(i) Grading in exam:\n",
    "\n",
    "Type: Qualitative (Ordinal)\n",
    "Explanation: The grades (A+, A, B+, B, C+, C, D, E) represent categories with a meaningful order, but the intervals between the grades are not necessarily equal."
   ]
  },
  {
   "cell_type": "code",
   "execution_count": null,
   "id": "4064359d-3577-4e1f-b320-232b3b8ed037",
   "metadata": {},
   "outputs": [],
   "source": []
  },
  {
   "cell_type": "markdown",
   "id": "6c7107ce-109c-4027-959c-258bafd7a45b",
   "metadata": {},
   "source": [
    "(ii) Colour of mangoes:\n",
    "\n",
    "Type: Qualitative (Nominal)\n",
    "Explanation: The colors (yellow, green, orange, red) represent categories, and there is no inherent order or ranking among them."
   ]
  },
  {
   "cell_type": "code",
   "execution_count": null,
   "id": "601e68b0-3c6c-44a2-b6f9-17c19f897105",
   "metadata": {},
   "outputs": [],
   "source": []
  },
  {
   "cell_type": "markdown",
   "id": "ccc3457f-0989-45b4-9dcc-658475c7fe6c",
   "metadata": {},
   "source": [
    "(iii) Height data of a class:\n",
    "\n",
    "Type: Quantitative (Ratio)\n",
    "Explanation: The height data consists of numerical values with a meaningful order, equal intervals, and a true zero point, making it a ratio variable. The differences between heights are meaningful, and a height of 0 would represent the absence of height, which is not the case in practical terms."
   ]
  },
  {
   "cell_type": "code",
   "execution_count": null,
   "id": "933487d0-36e5-469c-8bdb-875a882957c7",
   "metadata": {},
   "outputs": [],
   "source": []
  },
  {
   "cell_type": "markdown",
   "id": "df103811-36c0-48ae-bb30-f7f47a3273df",
   "metadata": {},
   "source": [
    "(iv) Number of mangoes exported by a farm:\n",
    "\n",
    "Type: Quantitative (Ratio)\n",
    "Explanation: The number of mangoes exported represents numerical values with a meaningful order, equal intervals, and a true zero point. Ratios between the quantities are meaningful, and a count of 0 indicates the absence of exported mangoes."
   ]
  },
  {
   "cell_type": "code",
   "execution_count": null,
   "id": "59fe4227-933a-4eb8-af33-3c57517c1ed2",
   "metadata": {},
   "outputs": [],
   "source": []
  },
  {
   "cell_type": "code",
   "execution_count": null,
   "id": "4723b8b4-c01f-4b00-bafb-9358b9f59f40",
   "metadata": {},
   "outputs": [],
   "source": []
  },
  {
   "cell_type": "markdown",
   "id": "952f6131-f2b2-46cd-9256-13c040e77c27",
   "metadata": {},
   "source": [
    "Q5. Explain the concept of levels of measurement and give an example of a variable for each level. \n"
   ]
  },
  {
   "cell_type": "code",
   "execution_count": null,
   "id": "8abd2833-efc4-4f35-8392-3b90c44b4d97",
   "metadata": {},
   "outputs": [],
   "source": []
  },
  {
   "cell_type": "markdown",
   "id": "be4a75c3-7164-4253-8a50-c35409dfe387",
   "metadata": {},
   "source": [
    "Nominal Level of Measurement:\n",
    "\n",
    "Definition: Variables at the nominal level are categorical and can only be classified into different categories or groups. There is no inherent order or ranking among these categories.\n",
    "Example: Gender (categories: male, female, non-binary). The categories are distinct, but there is no meaningful order or ranking."
   ]
  },
  {
   "cell_type": "code",
   "execution_count": null,
   "id": "19695e8d-25cd-4d50-927d-f8d025f7afc3",
   "metadata": {},
   "outputs": [],
   "source": []
  },
  {
   "cell_type": "markdown",
   "id": "46560a76-878a-44fe-a3b9-6f9ed7c9f119",
   "metadata": {},
   "source": [
    "Ordinal Level of Measurement:\n",
    "\n",
    "Definition: Variables at the ordinal level have a meaningful order or ranking, but the intervals between categories are not necessarily equal or meaningful.\n",
    "Example: Educational attainment (categories: high school, bachelor's, master's, Ph.D.). There is a clear order, but the difference between high school and bachelor's may not be the same as the difference between bachelor's and master's.\n"
   ]
  },
  {
   "cell_type": "code",
   "execution_count": null,
   "id": "bd9bbfb3-e1d4-41f1-baa2-0acb786ee574",
   "metadata": {},
   "outputs": [],
   "source": []
  },
  {
   "cell_type": "markdown",
   "id": "21f7f307-a410-4df1-94e9-88523466f3b3",
   "metadata": {},
   "source": [
    "Interval Level of Measurement:\n",
    "\n",
    "Definition: Variables at the interval level have a meaningful order, and the intervals between values are equal and meaningful. However, there is no true zero point, and ratios between values are not meaningful.\n",
    "Example: Temperature measured in Celsius or Fahrenheit. The difference between 20°C and 30°C is the same as the difference between 30°C and 40°C, but a temperature of 0°C does not represent the absence of temperature"
   ]
  },
  {
   "cell_type": "code",
   "execution_count": null,
   "id": "c88d90ec-6dc7-45aa-8817-836a7dd2e3c3",
   "metadata": {},
   "outputs": [],
   "source": []
  },
  {
   "cell_type": "markdown",
   "id": "49823ba7-9bef-41ea-825d-77b45c31a72c",
   "metadata": {},
   "source": [
    "Ratio Level of Measurement:\n",
    "\n",
    "Definition: Variables at the ratio level have a meaningful order, equal intervals, and a true zero point, where zero indicates the absence of the quantity being measured. Ratios between values are meaningful.\n",
    "Example: Height, weight, income. A height of 0 cm or a weight of 0 kg indicates the absence of height or weight, and ratios between values are meaningful."
   ]
  },
  {
   "cell_type": "code",
   "execution_count": null,
   "id": "3abeb019-66e8-4ed5-b373-61eaaefee00e",
   "metadata": {},
   "outputs": [],
   "source": []
  },
  {
   "cell_type": "code",
   "execution_count": null,
   "id": "6fa102eb-8369-4872-b15e-51f323df1529",
   "metadata": {},
   "outputs": [],
   "source": []
  },
  {
   "cell_type": "markdown",
   "id": "d2dc25c8-b6e1-4732-a572-bdc3c145b407",
   "metadata": {},
   "source": [
    "Q6. Why is it important to understand the level of measurement when analyzing data? Provide an  example to illustrate your answer. \n"
   ]
  },
  {
   "cell_type": "code",
   "execution_count": null,
   "id": "e239b743-6963-4063-b84f-2c965efd40a3",
   "metadata": {},
   "outputs": [],
   "source": []
  },
  {
   "cell_type": "markdown",
   "id": "23009902-ceb6-48e4-b0ed-7e24eb0c130b",
   "metadata": {},
   "source": [
    "Understanding the level of measurement is crucial when analyzing data because it determines the types of statistical analyses that can be appropriately applied to the data. Different levels of measurement have distinct properties, and using the wrong statistical method can lead to misleading or inaccurate conclusions. There are four main levels of measurement: nominal, ordinal, interval, and ratio."
   ]
  },
  {
   "cell_type": "code",
   "execution_count": null,
   "id": "fdd5f4bd-5b9e-482d-abbc-f9c0b848d816",
   "metadata": {},
   "outputs": [],
   "source": []
  },
  {
   "cell_type": "markdown",
   "id": "ee934aeb-e608-4fbf-b590-71f380abae96",
   "metadata": {},
   "source": [
    "1. Nominal Level:\n",
    "\n",
    "Represents categories or labels without any inherent order or ranking.\n",
    "Example: Colors (red, blue, green)."
   ]
  },
  {
   "cell_type": "code",
   "execution_count": null,
   "id": "91de6598-7f63-4baf-91d4-20332dc41bca",
   "metadata": {},
   "outputs": [],
   "source": []
  },
  {
   "cell_type": "markdown",
   "id": "7768e647-7450-410d-ae89-9faed3bf1095",
   "metadata": {},
   "source": [
    "Ordinal Level:\n",
    "\n",
    "Implies a meaningful order or ranking among the categories, but the intervals between them are not consistent.\n",
    "Example: Education levels (high school, college, graduate)."
   ]
  },
  {
   "cell_type": "code",
   "execution_count": null,
   "id": "7c089519-8eba-475b-93b8-0c919d6ce56f",
   "metadata": {},
   "outputs": [],
   "source": []
  },
  {
   "cell_type": "markdown",
   "id": "cfb0cc53-6e8e-41ae-883f-bd7ba616387d",
   "metadata": {},
   "source": [
    "Interval Level:\n",
    "\n",
    "Has a meaningful order, and the intervals between values are consistent, but there is no true zero point.\n",
    "Example: Temperature in Celsius or Fahrenheit."
   ]
  },
  {
   "cell_type": "code",
   "execution_count": null,
   "id": "e59b7b02-f971-4ee4-a4ce-055b0e62869a",
   "metadata": {},
   "outputs": [],
   "source": []
  },
  {
   "cell_type": "markdown",
   "id": "b276ba88-0604-43f8-bfff-94a6f5a7a8b6",
   "metadata": {},
   "source": [
    "Ratio Level:\n",
    "\n",
    "Has a meaningful order, consistent intervals, and a true zero point, where zero indicates the complete absence of the variable.\n",
    "Example: Height, weight, income."
   ]
  },
  {
   "cell_type": "code",
   "execution_count": null,
   "id": "4685c6a0-d351-4ab2-b513-b5eb7a708d7c",
   "metadata": {},
   "outputs": [],
   "source": []
  },
  {
   "cell_type": "markdown",
   "id": "812d2102-b3b4-452f-8c8c-aee082033616",
   "metadata": {},
   "source": [
    "Now, let's consider an example to illustrate the importance of understanding the level of measurement:\n",
    "\n",
    "Suppose you have data on the favorite colors of individuals in a survey:\n",
    "\n",
    "Person A: Red\n",
    "Person B: Blue\n",
    "Person C: Green\n",
    "If you treat these responses as nominal data, you can only count and report the frequencies of each color. You cannot say that one color is \"greater\" or \"better\" than another in a meaningful way because nominal data lack inherent order.\n",
    "\n",
    "If, however, you mistakenly treat the data as ordinal and assign arbitrary rankings (e.g., Red = 1, Blue = 2, Green = 3), you might incorrectly infer that \"Blue\" is somehow better than \"Red\" or \"Green,\" which is not accurate because the original data did not imply any inherent ranking.\n",
    "\n",
    "In this example, understanding the level of measurement helps you avoid misinterpretations and ensures that your statistical analyses align with the nature of the data, leading to more accurate and meaningful conclusions."
   ]
  },
  {
   "cell_type": "code",
   "execution_count": null,
   "id": "8865ae4d-499a-4282-bfcc-3ba605c10ab4",
   "metadata": {},
   "outputs": [],
   "source": []
  },
  {
   "cell_type": "code",
   "execution_count": null,
   "id": "800e8202-41a2-4af5-9e22-7bba11e4743f",
   "metadata": {},
   "outputs": [],
   "source": []
  },
  {
   "cell_type": "markdown",
   "id": "0fa62df6-ed07-4899-8012-806f5d7160b6",
   "metadata": {},
   "source": [
    "Q7. How nominal data type is different from ordinal data type."
   ]
  },
  {
   "cell_type": "code",
   "execution_count": null,
   "id": "0cafce5a-ce62-465b-a881-74b1d77b3062",
   "metadata": {},
   "outputs": [],
   "source": []
  },
  {
   "cell_type": "markdown",
   "id": "fa0ed087-09a1-4ffd-af16-57c744107d1c",
   "metadata": {},
   "source": [
    "Nominal and ordinal data are both categorical data types, but they differ in the level of measurement and the nature of the information they convey."
   ]
  },
  {
   "cell_type": "code",
   "execution_count": null,
   "id": "739f9704-7f6c-4920-a159-81982ef8d6c2",
   "metadata": {},
   "outputs": [],
   "source": []
  },
  {
   "cell_type": "markdown",
   "id": "45ed2fba-a244-4263-b342-8c7eb8eb0ab8",
   "metadata": {},
   "source": [
    "Nominal Data:\n",
    "\n",
    "1. Definition: Nominal data represent categories or labels without any inherent order or ranking. The categories are distinct, and there is no implied order or hierarchy.\n",
    "\n",
    "2. Examples:\n",
    "Colors (red, blue, green)\n",
    "Gender (male, female, non-binary)\n",
    "Marital status (single, married, divorced)\n",
    "\n",
    "3. Properties:\n",
    "Categories are mutually exclusive and exhaustive.\n",
    "There is no meaningful order or ranking among the categories.\n",
    "Mathematical operations (such as addition or subtraction) are not meaningful with nominal data."
   ]
  },
  {
   "cell_type": "code",
   "execution_count": null,
   "id": "2f6099f0-455e-403e-9048-948956f51aa1",
   "metadata": {},
   "outputs": [],
   "source": []
  },
  {
   "cell_type": "markdown",
   "id": "44300fa5-dda6-4492-b94e-cb8631dffd86",
   "metadata": {},
   "source": [
    "Ordinal Data:\n",
    "\n",
    "1. Definition: Ordinal data also represent categories, but they have a meaningful order or ranking. The order between categories is significant, but the intervals between them are not consistent or may be unknown.\n",
    "2. Examples:\n",
    "Education levels (high school, college, graduate)\n",
    "Customer satisfaction ratings (poor, satisfactory, excellent)\n",
    "Socioeconomic status (low, middle, high)\n",
    "3. Properties:\n",
    "Categories have a meaningful order or hierarchy.\n",
    "Intervals between categories are not necessarily equal.\n",
    "Relative ranking is preserved, but the magnitude of the differences between ranks may not be uniform."
   ]
  },
  {
   "cell_type": "markdown",
   "id": "d545332b-ce85-460f-b67e-43c45e9650eb",
   "metadata": {},
   "source": []
  },
  {
   "cell_type": "markdown",
   "id": "dd19b667-a12d-44ee-9a69-d7691628c634",
   "metadata": {},
   "source": [
    "In summary, the key difference lies in the presence or absence of order. Nominal data have categories without any inherent order, while ordinal data have categories with a meaningful order or ranking. Understanding the distinction is essential for choosing appropriate statistical analyses and ensuring accurate interpretation of the data."
   ]
  },
  {
   "cell_type": "code",
   "execution_count": null,
   "id": "3f0b4550-f8ad-4722-9d5e-aad7ecdffc06",
   "metadata": {},
   "outputs": [],
   "source": []
  },
  {
   "cell_type": "code",
   "execution_count": null,
   "id": "033bf911-2965-4eee-8ebc-0a806b82fef7",
   "metadata": {},
   "outputs": [],
   "source": []
  },
  {
   "cell_type": "markdown",
   "id": "5bee1a0e-0093-4965-b434-e3c3ec0ede5b",
   "metadata": {},
   "source": [
    "Q8. Which type of plot can be used to display data in terms of range? \n"
   ]
  },
  {
   "cell_type": "markdown",
   "id": "9f56f0e2-945d-4a89-bbc4-65a3b2fb558b",
   "metadata": {},
   "source": [
    "A box plot (also known as a box-and-whisker plot) is commonly used to display data in terms of range. A box plot provides a visual representation of the distribution of a dataset and highlights key summary statistics, including the minimum, first quartile (Q1), median, third quartile (Q3), and maximum.\n",
    "\n",
    "Here's how a box plot displays data in terms of range:\n",
    "\n",
    "\n",
    "1. Box: The box represents the interquartile range (IQR) and spans from the first quartile (Q1) to the third quartile (Q3). The length of the box indicates the spread of the middle 50% of the data.\n",
    "\n",
    "2. Whiskers: The whiskers extend from the edges of the box to the minimum and maximum values within a specified range. They provide information about the overall range of the data.\n",
    "\n",
    "3. Outliers: Individual data points beyond the whiskers are considered outliers and are often plotted individually.\n",
    "\n",
    "\n",
    "A box plot is particularly useful for comparing the spread and central tendency of different groups or distributions. It provides a concise summary of the data's distribution and allows for the identification of potential outliers.\n",
    "\n",
    "\n",
    "By examining the length of the box, the position of the median, and the whisker lengths, one can quickly assess the range and variability of the dataset. Box plots are especially valuable when dealing with skewed or non-normally distributed data and help in visually comparing the ranges of different groups or conditions.\n",
    "\n",
    "\n",
    "\n",
    "\n",
    "\n"
   ]
  },
  {
   "cell_type": "code",
   "execution_count": null,
   "id": "1e2bfdb3-0095-4ee6-9c26-fcb181946bef",
   "metadata": {},
   "outputs": [],
   "source": []
  },
  {
   "cell_type": "code",
   "execution_count": null,
   "id": "c178de4c-ff5d-47bd-becc-ec3493edf8f9",
   "metadata": {},
   "outputs": [],
   "source": []
  },
  {
   "cell_type": "markdown",
   "id": "5518d8eb-36bb-48e8-8a2b-127819192b5a",
   "metadata": {},
   "source": [
    "Q9. Describe the difference between descriptive and inferential statistics. Give an example of each  type of statistics and explain how they are used. \n"
   ]
  },
  {
   "cell_type": "markdown",
   "id": "51a7fbf5-f409-4246-9cea-52d477457aca",
   "metadata": {},
   "source": [
    "1. Descriptive Statistics:\n",
    "\n",
    "Definition: Descriptive statistics involve the summarization and presentation of data in a meaningful way. These statistics describe the main features of a dataset without making inferences about a larger population.\n",
    "\n",
    "\n",
    "\n",
    "\n",
    "Example: Mean, median, mode, range, standard deviation, and percentiles are examples of descriptive statistics.\n",
    "\n",
    "\n",
    "\n",
    "\n",
    "Explanation: Suppose you have a dataset of exam scores for a class of students. Descriptive statistics would help you understand the central tendency of the scores (mean), the typical score (median), the most frequent score (mode), and the variability of scores (standard deviation). These statistics provide a concise summary of the dataset's key characteristics."
   ]
  },
  {
   "cell_type": "code",
   "execution_count": null,
   "id": "1cfa6653-513a-4965-ba44-a05e29801583",
   "metadata": {},
   "outputs": [],
   "source": []
  },
  {
   "cell_type": "markdown",
   "id": "0f8b3d96-9223-4680-ac09-cc238f9a495f",
   "metadata": {},
   "source": [
    "2. Inferential Statistics:\n",
    "\n",
    "Definition: Inferential statistics involve making predictions or inferences about a population based on a sample of data. It uses probability theory to draw conclusions and make generalizations beyond the observed data.\n",
    "\n",
    "\n",
    "Example: Hypothesis testing, confidence intervals, and regression analysis are examples of inferential statistics.\n",
    "\n",
    "\n",
    "\n",
    "Explanation: Using the same example of exam scores, inferential statistics would help you make broader statements about the entire student population based on the data from your sample. For instance, you might use inferential statistics to test whether the average exam score for the class is significantly different from a national average. This type of analysis allows you to generalize findings from a smaller group (sample) to a larger population."
   ]
  },
  {
   "cell_type": "code",
   "execution_count": null,
   "id": "5beba00e-cde4-4add-9e5e-27b0d27d9581",
   "metadata": {},
   "outputs": [],
   "source": []
  },
  {
   "cell_type": "code",
   "execution_count": null,
   "id": "bde4e6ce-e54d-4157-b15f-a62be66dcb2f",
   "metadata": {},
   "outputs": [],
   "source": []
  },
  {
   "cell_type": "markdown",
   "id": "c5cbc70a-5894-469d-a6b9-8386a6b67998",
   "metadata": {},
   "source": [
    "Q10. What are some common measures of central tendency and variability used in statistics? Explain  how each measure can be used to describe a dataset. \n"
   ]
  },
  {
   "cell_type": "markdown",
   "id": "902aadb5-3e22-4714-af6d-cbe081057099",
   "metadata": {},
   "source": [
    "Measures of Central Tendency:\n",
    "\n",
    "1. Mean (Average):\n",
    "\n",
    "Calculation: The mean is calculated by summing up all the values in a dataset and dividing by the number of observations.\n",
    "Use: The mean represents the center of the data and is sensitive to extreme values. It's widely used when the data is approximately normally distributed.\n",
    "\n",
    "\n",
    "\n",
    "2. Median:\n",
    "\n",
    "Calculation: The median is the middle value in a dataset when it is ordered. If there is an even number of observations, the median is the average of the two middle values.\n",
    "Use: The median is less affected by extreme values and is a good measure of central tendency for skewed distributions or datasets with outliers.\n",
    "\n",
    "\n",
    "\n",
    "\n",
    "3. Mode:\n",
    "\n",
    "Calculation: The mode is the value that occurs most frequently in a dataset.\n",
    "Use: The mode is useful for categorical data and can be relevant for numerical data as well. A dataset may have no mode, one mode (unimodal), or multiple modes (multimodal)."
   ]
  },
  {
   "cell_type": "code",
   "execution_count": null,
   "id": "8a518dab-7155-4a34-9dce-aacb8656ac33",
   "metadata": {},
   "outputs": [],
   "source": []
  },
  {
   "cell_type": "markdown",
   "id": "ca45fdd1-82ec-43c7-901d-a5b85582810c",
   "metadata": {},
   "source": [
    "Measures of Variability:\n",
    "\n",
    "1. Range:\n",
    "\n",
    "Calculation: Range is the difference between the maximum and minimum values in a dataset.\n",
    "Use: Range provides a simple measure of the spread of the data but is sensitive to extreme values.\n",
    "\n",
    "\n",
    "2. Variance:\n",
    "\n",
    "Calculation: Variance is the average of the squared differences from the mean. It provides a measure of the overall variability in a dataset.\n",
    "Use: Variance is useful for understanding the spread of data points, but its units are squared, so the standard deviation is often preferred for interpretation.\n",
    "\n",
    "\n",
    "3. Standard Deviation:\n",
    "\n",
    "Calculation: Standard deviation is the square root of the variance. It represents the average deviation of data points from the mean.\n",
    "Use: Standard deviation is a widely used and easily interpretable measure of variability. It provides a more intuitive understanding of the spread of data than variance.\n",
    "\n",
    "\n",
    "4. Interquartile Range (IQR):\n",
    "\n",
    "Calculation: IQR is the range of the middle 50% of the data, calculated as the difference between the third quartile (Q3) and the first quartile (Q1).\n",
    "Use: IQR is resistant to extreme values and is useful for identifying the central spread of data, particularly in non-normally distributed datasets."
   ]
  },
  {
   "cell_type": "code",
   "execution_count": null,
   "id": "d3597a3d-42e7-4afa-a925-25c03e04540b",
   "metadata": {},
   "outputs": [],
   "source": []
  }
 ],
 "metadata": {
  "kernelspec": {
   "display_name": "Python 3 (ipykernel)",
   "language": "python",
   "name": "python3"
  },
  "language_info": {
   "codemirror_mode": {
    "name": "ipython",
    "version": 3
   },
   "file_extension": ".py",
   "mimetype": "text/x-python",
   "name": "python",
   "nbconvert_exporter": "python",
   "pygments_lexer": "ipython3",
   "version": "3.10.8"
  }
 },
 "nbformat": 4,
 "nbformat_minor": 5
}
