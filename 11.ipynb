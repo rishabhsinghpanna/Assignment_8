{
 "cells": [
  {
   "cell_type": "code",
   "execution_count": 1,
   "id": "b3922e4c-a56f-4fe4-8617-34dce4f2a5d6",
   "metadata": {},
   "outputs": [
    {
     "name": "stdout",
     "output_type": "stream",
     "text": [
      "Requirement already satisfied: pandas in /opt/conda/lib/python3.10/site-packages (1.5.2)\n",
      "Requirement already satisfied: python-dateutil>=2.8.1 in /opt/conda/lib/python3.10/site-packages (from pandas) (2.8.2)\n",
      "Requirement already satisfied: pytz>=2020.1 in /opt/conda/lib/python3.10/site-packages (from pandas) (2022.6)\n",
      "Requirement already satisfied: numpy>=1.21.0 in /opt/conda/lib/python3.10/site-packages (from pandas) (1.23.5)\n",
      "Requirement already satisfied: six>=1.5 in /opt/conda/lib/python3.10/site-packages (from python-dateutil>=2.8.1->pandas) (1.16.0)\n",
      "Note: you may need to restart the kernel to use updated packages.\n"
     ]
    }
   ],
   "source": [
    "pip install pandas"
   ]
  },
  {
   "cell_type": "code",
   "execution_count": null,
   "id": "9c05f86d-ead0-499d-b432-347050766046",
   "metadata": {},
   "outputs": [],
   "source": []
  },
  {
   "cell_type": "code",
   "execution_count": null,
   "id": "1ccf695f-ce40-4beb-94bc-7e7b30f724b5",
   "metadata": {},
   "outputs": [],
   "source": []
  },
  {
   "cell_type": "markdown",
   "id": "26b5c12f-7c5c-4fb5-94a6-8355234a0b2d",
   "metadata": {},
   "source": [
    "Q1. Create a Pandas Series that contains the following data: 4, 8, 15, 16, 23, and 42. Then, print the series."
   ]
  },
  {
   "cell_type": "code",
   "execution_count": 3,
   "id": "665cce28-83ea-4bf8-a23a-052d98d51dc3",
   "metadata": {},
   "outputs": [],
   "source": [
    "import pandas as pd\n",
    "data = [4,8,15,16,23,42]"
   ]
  },
  {
   "cell_type": "code",
   "execution_count": 5,
   "id": "ab08210d-05a5-499a-976e-c5e0419fe102",
   "metadata": {},
   "outputs": [],
   "source": [
    "series = pd.Series(data)"
   ]
  },
  {
   "cell_type": "code",
   "execution_count": 6,
   "id": "67317688-1aae-40e8-aa8e-6815d46d8d5f",
   "metadata": {},
   "outputs": [
    {
     "name": "stdout",
     "output_type": "stream",
     "text": [
      "0     4\n",
      "1     8\n",
      "2    15\n",
      "3    16\n",
      "4    23\n",
      "5    42\n",
      "dtype: int64\n"
     ]
    }
   ],
   "source": [
    "print(series)"
   ]
  },
  {
   "cell_type": "code",
   "execution_count": null,
   "id": "0041c25c-1392-4e8e-ad86-e89e9dc82397",
   "metadata": {},
   "outputs": [],
   "source": []
  },
  {
   "cell_type": "code",
   "execution_count": null,
   "id": "ea68f3b1-7a7e-42d9-8374-f8e83a570498",
   "metadata": {},
   "outputs": [],
   "source": []
  },
  {
   "cell_type": "markdown",
   "id": "a454f57b-02c9-441b-b0a5-9778380e6138",
   "metadata": {},
   "source": [
    "Q2. Create a variable of list type containing 10 elements in it, and apply pandas.Series function on the\n",
    "variable print it."
   ]
  },
  {
   "cell_type": "code",
   "execution_count": 4,
   "id": "8a8f6629-d312-4487-8373-269230e4133e",
   "metadata": {},
   "outputs": [
    {
     "name": "stdin",
     "output_type": "stream",
     "text": [
      " ram\n",
      " rishabh\n",
      " singh\n",
      " rd\n",
      " burma\n",
      " fan\n",
      " table\n",
      " you\n",
      " she\n",
      " he\n"
     ]
    }
   ],
   "source": [
    "s=[]\n",
    "i=0\n",
    "for i in range(10):\n",
    "    a=input()\n",
    "    s.append(a)\n",
    "    i=i+1"
   ]
  },
  {
   "cell_type": "code",
   "execution_count": 7,
   "id": "20f88c2c-bcfc-4c8b-a311-3eafb1fa2627",
   "metadata": {},
   "outputs": [
    {
     "name": "stdout",
     "output_type": "stream",
     "text": [
      "0        ram\n",
      "1    rishabh\n",
      "2      singh\n",
      "3         rd\n",
      "4      burma\n",
      "5        fan\n",
      "6      table\n",
      "7        you\n",
      "8        she\n",
      "9         he\n",
      "dtype: object\n"
     ]
    }
   ],
   "source": [
    "print(pd.Series(s))"
   ]
  },
  {
   "cell_type": "code",
   "execution_count": null,
   "id": "e1d955ca-c68d-4562-81f8-9053a121a76e",
   "metadata": {},
   "outputs": [],
   "source": []
  },
  {
   "cell_type": "code",
   "execution_count": null,
   "id": "540f1e3e-e699-487b-aed8-3722d3737174",
   "metadata": {},
   "outputs": [],
   "source": []
  },
  {
   "attachments": {
    "9b5b3888-5596-4e9d-8341-f7f4bf94829a.png": {
     "image/png": "[encoded data removed]"
    }
   },
   "cell_type": "markdown",
   "id": "38e6c65d-9892-4bc6-9a19-3fcfd9fe0808",
   "metadata": {},
   "source": [
    "Q3. Create a Pandas DataFrame that contains the following data:\n",
    "![image.png](attachment:9b5b3888-5596-4e9d-8341-f7f4bf94829a.png)\n",
    "Then, print the DataFrame."
   ]
  },
  {
   "cell_type": "code",
   "execution_count": null,
   "id": "6503cbd3-ff01-4787-b086-53156f3608f8",
   "metadata": {},
   "outputs": [],
   "source": [
    "df1=[['Name','Age','Gender'],['Alice',25,'Female'],['Bob',30,'Male'] , ['Claire', 27 , 'Female']]"
   ]
  },
  {
   "cell_type": "code",
   "execution_count": null,
   "id": "22ad74a0-1fc2-4bfb-9647-d48f97146979",
   "metadata": {},
   "outputs": [
    {
     "data": {
      "text/plain": [
       "[['Name', 'Age', 'Gender'],\n",
       " ['Alice', 25, 'Female'],\n",
       " ['Bob', 30, 'Male'],\n",
       " ['Claire', 27, 'Female']]"
      ]
     },
     "execution_count": 10,
     "metadata": {},
     "output_type": "execute_result"
    }
   ],
   "source": [
    "df1"
   ]
  },
  {
   "cell_type": "code",
   "execution_count": null,
   "id": "18ad4b7e-fa40-4a0e-a215-baac7fceecb7",
   "metadata": {},
   "outputs": [
    {
     "data": {
      "text/plain": [
       "list"
      ]
     },
     "execution_count": 11,
     "metadata": {},
     "output_type": "execute_result"
    }
   ],
   "source": [
    "type(df1)"
   ]
  },
  {
   "cell_type": "code",
   "execution_count": 13,
   "id": "2c600455-1a38-4f5a-b2ab-d885b9f21510",
   "metadata": {},
   "outputs": [],
   "source": [
    "data = {'Row1' : df1[0] , 'Row2' : df1[1] , 'Row3' : df1[2]}"
   ]
  },
  {
   "cell_type": "code",
   "execution_count": 14,
   "id": "bcfa5d01-0dc8-4aea-95dd-ba83c44297e5",
   "metadata": {},
   "outputs": [
    {
     "name": "stdout",
     "output_type": "stream",
     "text": [
      "     Row1    Row2  Row3\n",
      "0    Name   Alice   Bob\n",
      "1     Age      25    30\n",
      "2  Gender  Female  Male\n"
     ]
    }
   ],
   "source": [
    "print(pd.DataFrame(data))"
   ]
  },
  {
   "cell_type": "code",
   "execution_count": null,
   "id": "9a136687-3fbb-4221-ae74-e7a55f28d8f0",
   "metadata": {},
   "outputs": [],
   "source": []
  },
  {
   "cell_type": "code",
   "execution_count": null,
   "id": "0d4ae7b0-3adc-427c-b261-44c4d7a3c3d4",
   "metadata": {},
   "outputs": [],
   "source": []
  },
  {
   "cell_type": "markdown",
   "id": "314efe72-720c-4355-8996-23e794d06786",
   "metadata": {},
   "source": [
    "Q4. What is ‘DataFrame’ in pandas and how is it different from pandas.series? Explain with an example."
   ]
  },
  {
   "cell_type": "markdown",
   "id": "ba99ef9b-a775-4cd4-825f-79cee0897f87",
   "metadata": {},
   "source": [
    "In the context of the Python programming language and the pandas library, a DataFrame is a fundamental data structure used for organizing and manipulating data in a tabular form. It can be thought of as a two-dimensional array or table where data is arranged in rows and columns. Each column in a DataFrame can contain different types of data, such as numbers, strings, dates, etc.\n",
    "\n",
    "On the other hand, a pandas Series is a one-dimensional labeled array that can hold data of any type, similar to a column in a DataFrame. A Series is essentially a single column of data with an associated label, called an index. It can be considered a basic building block of a DataFrame.\n",
    "\n",
    "Let's illustrate the difference between a DataFrame and a Series with an example:"
   ]
  },
  {
   "cell_type": "code",
   "execution_count": null,
   "id": "1d9b0707-f26b-4fbd-86b6-1bc822de98df",
   "metadata": {},
   "outputs": [],
   "source": []
  },
  {
   "cell_type": "code",
   "execution_count": null,
   "id": "307dba36-a7ba-4759-bd23-cc038f5313d7",
   "metadata": {},
   "outputs": [],
   "source": []
  },
  {
   "cell_type": "code",
   "execution_count": 15,
   "id": "61963896-e3fb-4d5b-a403-8b6fcdbaa044",
   "metadata": {},
   "outputs": [
    {
     "name": "stdout",
     "output_type": "stream",
     "text": [
      "DataFrame:\n",
      "      Name  Age         City\n",
      "0    Alice   25     New York\n",
      "1      Bob   30  Los Angeles\n",
      "2  Charlie   22      Chicago\n",
      "3    David   28      Houston\n",
      "\n",
      "DataFrame's type: <class 'pandas.core.frame.DataFrame'>\n"
     ]
    }
   ],
   "source": [
    "import pandas as pd\n",
    "\n",
    "# Example DataFrame\n",
    "data = {\n",
    "    'Name': ['Alice', 'Bob', 'Charlie', 'David'],\n",
    "    'Age': [25, 30, 22, 28],\n",
    "    'City': ['New York', 'Los Angeles', 'Chicago', 'Houston']\n",
    "}\n",
    "\n",
    "df = pd.DataFrame(data)\n",
    "print(\"DataFrame:\")\n",
    "print(df)\n",
    "print(\"\\nDataFrame's type:\", type(df))"
   ]
  },
  {
   "cell_type": "code",
   "execution_count": null,
   "id": "f9ea598a-0fe1-4ad6-82e4-d6e4588984bc",
   "metadata": {},
   "outputs": [],
   "source": []
  },
  {
   "cell_type": "code",
   "execution_count": null,
   "id": "92017ce1-b84a-45ae-9ec0-8e5b1dcd33fc",
   "metadata": {},
   "outputs": [],
   "source": []
  },
  {
   "cell_type": "code",
   "execution_count": 16,
   "id": "50d4b362-2738-45f7-a22a-e4445fd3fe7d",
   "metadata": {},
   "outputs": [
    {
     "name": "stdout",
     "output_type": "stream",
     "text": [
      "\n",
      "Series:\n",
      "0    25\n",
      "1    30\n",
      "2    22\n",
      "3    28\n",
      "Name: Age, dtype: int64\n",
      "\n",
      "Series' type: <class 'pandas.core.series.Series'>\n"
     ]
    }
   ],
   "source": [
    "# Example Series\n",
    "ages = pd.Series([25, 30, 22, 28], name='Age')\n",
    "print(\"\\nSeries:\")\n",
    "print(ages)\n",
    "print(\"\\nSeries' type:\", type(ages))"
   ]
  },
  {
   "cell_type": "code",
   "execution_count": null,
   "id": "cc9f4469-70b8-44e9-adf9-c1464bb086f8",
   "metadata": {},
   "outputs": [],
   "source": []
  },
  {
   "cell_type": "code",
   "execution_count": null,
   "id": "da954892-02ad-4258-afc5-03120148bb39",
   "metadata": {},
   "outputs": [],
   "source": []
  },
  {
   "cell_type": "markdown",
   "id": "b1ce9b46-097b-4cd6-b0bd-133f2c299c17",
   "metadata": {},
   "source": [
    "In the example above, we first create a DataFrame named `df` using a dictionary. Each key-value pair in the dictionary represents a column, and the keys are the column names. The values associated with each key are lists, which constitute the data in the respective column.\n",
    "\n",
    "We also create a Series named `ages` using just the 'Age' column of the DataFrame. The `name` parameter is used to give the Series a label, and the data is the values from the 'Age' column of the DataFrame.\n",
    "\n",
    "Key differences between DataFrame and Series:\n",
    "\n",
    "1. Dimensionality:\n",
    "   - DataFrame: 2-dimensional structure with rows and columns.\n",
    "   - Series: 1-dimensional structure with an index.\n",
    "\n",
    "2. Multiple Columns:\n",
    "   - DataFrame can hold multiple columns of potentially different data types.\n",
    "   - Series holds a single column of data.\n",
    "\n",
    "3. Index:\n",
    "   - DataFrame has both row and column indices.\n",
    "   - Series has a single index for its elements.\n",
    "\n",
    "4. Operations:\n",
    "   - DataFrame allows complex operations involving multiple columns and rows.\n",
    "   - Series is more suited for operations on a single column of data.\n",
    "\n",
    "Both DataFrames and Series are crucial components of pandas, and they work together to provide powerful data analysis and manipulation capabilities."
   ]
  },
  {
   "cell_type": "code",
   "execution_count": null,
   "id": "f4ec6e8f-2748-4f63-be79-7320bbdfd2b3",
   "metadata": {},
   "outputs": [],
   "source": []
  },
  {
   "cell_type": "code",
   "execution_count": null,
   "id": "3446f6b7-750e-450a-b686-06e94a30d646",
   "metadata": {},
   "outputs": [],
   "source": []
  },
  {
   "cell_type": "markdown",
   "id": "96d19213-3469-4ae8-853d-00e675bf425b",
   "metadata": {},
   "source": [
    "Q5. What are some common functions you can use to manipulate data in a Pandas DataFrame? Can\n",
    "you give an example of when you might use one of these functions?"
   ]
  },
  {
   "cell_type": "markdown",
   "id": "5150ba3a-c6fb-41a0-9f6f-387284a30046",
   "metadata": {},
   "source": [
    ".head(),.tail(), .read_csv(\"\") , .columns() , .dtypes()"
   ]
  },
  {
   "cell_type": "code",
   "execution_count": 17,
   "id": "2f2cba81-d2fd-4e48-bf73-671dc7b5ad95",
   "metadata": {},
   "outputs": [
    {
     "name": "stdout",
     "output_type": "stream",
     "text": [
      "      Name  Age\n",
      "0    Alice   25\n",
      "1      Bob   30\n",
      "2  Charlie   22\n",
      "    Name  Age\n",
      "3  David   28\n",
      "4    Eve   35\n"
     ]
    }
   ],
   "source": [
    "## Example:\n",
    "# Create a DataFrame\n",
    "data = {'Name': ['Alice', 'Bob', 'Charlie', 'David', 'Eve'],\n",
    "        'Age': [25, 30, 22, 28, 35]}\n",
    "df = pd.DataFrame(data)\n",
    "\n",
    "# Display the first 3 rows\n",
    "print(df.head(3))\n",
    "\n",
    "# Display the last 2 rows\n",
    "print(df.tail(2))"
   ]
  },
  {
   "cell_type": "code",
   "execution_count": null,
   "id": "51294b73-1676-4f65-a99b-9fb8b3ffb486",
   "metadata": {},
   "outputs": [],
   "source": []
  },
  {
   "cell_type": "code",
   "execution_count": null,
   "id": "127c4504-0a83-43dc-a3a9-823547eaa760",
   "metadata": {},
   "outputs": [],
   "source": []
  },
  {
   "cell_type": "markdown",
   "id": "c17dc990-b259-482e-ad1a-08cc1fb77a4e",
   "metadata": {},
   "source": [
    "Q6. Which of the following is mutable in nature Series, DataFrame, Panel?"
   ]
  },
  {
   "cell_type": "markdown",
   "id": "370ad530-61db-488e-b9e6-1837d9ed540e",
   "metadata": {},
   "source": [
    "DataFrame and Series are Mutable"
   ]
  },
  {
   "cell_type": "code",
   "execution_count": null,
   "id": "54f4e312-a32f-4b15-8f17-05a7817e6dfb",
   "metadata": {},
   "outputs": [],
   "source": []
  },
  {
   "cell_type": "code",
   "execution_count": null,
   "id": "f70a6c9e-7ea6-490d-85ec-409f1c186bfb",
   "metadata": {},
   "outputs": [],
   "source": []
  },
  {
   "cell_type": "markdown",
   "id": "2f6410f3-458b-4b62-b070-11d7c861a2a1",
   "metadata": {},
   "source": [
    "Q7. Create a DataFrame using multiple Series. Explain with an example."
   ]
  },
  {
   "cell_type": "code",
   "execution_count": 19,
   "id": "052cdd41-88eb-4aa0-aefb-8c9714f993ee",
   "metadata": {},
   "outputs": [],
   "source": [
    "a=pd.Series(['Name' , 'Phone_No' , 'Age'])\n",
    "b=pd.Series(['Rishabh' , 93687890808 , 21])\n",
    "c=pd.Series(['Singh' , 99867564788 , 20])"
   ]
  },
  {
   "cell_type": "code",
   "execution_count": 20,
   "id": "e5530fbc-acf1-4e02-bcc8-867dd1fe7650",
   "metadata": {},
   "outputs": [],
   "source": [
    "data_frame = pd.DataFrame({'Column1': a, 'Column2': b , 'Column3' : c})"
   ]
  },
  {
   "cell_type": "code",
   "execution_count": 21,
   "id": "6110826c-b3d7-4ecd-a1ad-40ea4457e535",
   "metadata": {},
   "outputs": [
    {
     "data": {
      "text/html": [
       "<div>\n",
       "<style scoped>\n",
       "    .dataframe tbody tr th:only-of-type {\n",
       "        vertical-align: middle;\n",
       "    }\n",
       "\n",
       "    .dataframe tbody tr th {\n",
       "        vertical-align: top;\n",
       "    }\n",
       "\n",
       "    .dataframe thead th {\n",
       "        text-align: right;\n",
       "    }\n",
       "</style>\n",
       "<table border=\"1\" class=\"dataframe\">\n",
       "  <thead>\n",
       "    <tr style=\"text-align: right;\">\n",
       "      <th></th>\n",
       "      <th>Column1</th>\n",
       "      <th>Column2</th>\n",
       "      <th>Column3</th>\n",
       "    </tr>\n",
       "  </thead>\n",
       "  <tbody>\n",
       "    <tr>\n",
       "      <th>0</th>\n",
       "      <td>Name</td>\n",
       "      <td>Rishabh</td>\n",
       "      <td>Singh</td>\n",
       "    </tr>\n",
       "    <tr>\n",
       "      <th>1</th>\n",
       "      <td>Phone_No</td>\n",
       "      <td>93687890808</td>\n",
       "      <td>99867564788</td>\n",
       "    </tr>\n",
       "    <tr>\n",
       "      <th>2</th>\n",
       "      <td>Age</td>\n",
       "      <td>21</td>\n",
       "      <td>20</td>\n",
       "    </tr>\n",
       "  </tbody>\n",
       "</table>\n",
       "</div>"
      ],
      "text/plain": [
       "    Column1      Column2      Column3\n",
       "0      Name      Rishabh        Singh\n",
       "1  Phone_No  93687890808  99867564788\n",
       "2       Age           21           20"
      ]
     },
     "execution_count": 21,
     "metadata": {},
     "output_type": "execute_result"
    }
   ],
   "source": [
    "data_frame"
   ]
  },
  {
   "cell_type": "code",
   "execution_count": 22,
   "id": "cf855aab-b8cd-4300-b80e-2ec2999295ce",
   "metadata": {},
   "outputs": [
    {
     "data": {
      "text/plain": [
       "pandas.core.series.Series"
      ]
     },
     "execution_count": 22,
     "metadata": {},
     "output_type": "execute_result"
    }
   ],
   "source": [
    "type(a)"
   ]
  },
  {
   "cell_type": "code",
   "execution_count": 23,
   "id": "d2b92f53-5723-4a1f-82d8-33e94989db63",
   "metadata": {},
   "outputs": [
    {
     "data": {
      "text/plain": [
       "pandas.core.frame.DataFrame"
      ]
     },
     "execution_count": 23,
     "metadata": {},
     "output_type": "execute_result"
    }
   ],
   "source": [
    "type(data_frame)"
   ]
  },
  {
   "cell_type": "code",
   "execution_count": null,
   "id": "97be869a-a5c8-4f68-8f14-fe4fd85e5e81",
   "metadata": {},
   "outputs": [],
   "source": []
  }
 ],
 "metadata": {
  "kernelspec": {
   "display_name": "Python 3 (ipykernel)",
   "language": "python",
   "name": "python3"
  },
  "language_info": {
   "codemirror_mode": {
    "name": "ipython",
    "version": 3
   },
   "file_extension": ".py",
   "mimetype": "text/x-python",
   "name": "python",
   "nbconvert_exporter": "python",
   "pygments_lexer": "ipython3",
   "version": "3.10.8"
  }
 },
 "nbformat": 4,
 "nbformat_minor": 5
}
